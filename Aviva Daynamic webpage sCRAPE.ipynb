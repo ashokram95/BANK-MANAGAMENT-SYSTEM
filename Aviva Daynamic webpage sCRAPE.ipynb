{
 "cells": [
  {
   "cell_type": "code",
   "execution_count": null,
   "id": "849950e9",
   "metadata": {},
   "outputs": [],
   "source": [
    "pip install selenium\n",
    "pip install beautifulsoup4\n",
    "pip install webdriver-manager\n",
    "pip install pandas"
   ]
  },
  {
   "cell_type": "code",
   "execution_count": 30,
   "id": "6684d05e",
   "metadata": {},
   "outputs": [],
   "source": [
    "from selenium import webdriver\n",
    "from bs4 import BeautifulSoup\n",
    "from selenium.webdriver.common.by import By\n",
    "from selenium.webdriver.common.keys import Keys\n",
    "from selenium.webdriver.chrome.service import Service\n",
    "from webdriver_manager.chrome import ChromeDriverManager\n",
    "import time\n",
    "import pandas as pd"
   ]
  },
  {
   "cell_type": "code",
   "execution_count": 31,
   "id": "e74d0fb5",
   "metadata": {},
   "outputs": [],
   "source": [
    "options = webdriver.ChromeOptions()\n",
    "options.add_argument(\"--start-maximized\")  \n",
    "\n",
    "driver = webdriver.Chrome(service=Service(ChromeDriverManager().install()), options=options)"
   ]
  },
  {
   "cell_type": "code",
   "execution_count": 32,
   "id": "b4aaedb9",
   "metadata": {},
   "outputs": [],
   "source": [
    "from selenium.webdriver.support.ui import WebDriverWait\n",
    "from selenium.webdriver.support import expected_conditions as EC\n",
    "\n",
    "def search_and_scrape(code):\n",
    "    driver.get(\"https://www.aviva.co.uk/health-insurance/providers/practitioners/fee-schedule/details/SearchByText\")\n",
    "    time.sleep(2)\n",
    "\n",
    "    try:\n",
    "        \n",
    "        input_box = driver.find_element(By.ID, \"searchText\")\n",
    "        input_box.clear()\n",
    "        input_box.send_keys(code)\n",
    "        input_box.send_keys(Keys.ENTER)\n",
    "\n",
    "        time.sleep(3)  # wait \n",
    "\n",
    "        html = driver.page_source\n",
    "        soup = BeautifulSoup(html, \"html.parser\")\n",
    "\n",
    "        # Extraction \n",
    "        data_items = soup.select(\".m-data-group .m-data-group-item\")\n",
    "        result = {\"Code\": code}\n",
    "\n",
    "        for item in data_items:\n",
    "            title = item.select_one(\".m-data-group-item__title\").text.strip()\n",
    "            value = item.select_one(\".m-data-group-item__data\").text.strip()\n",
    "            result[title] = value\n",
    "\n",
    "        return result\n",
    "\n",
    "    except Exception as e:\n",
    "        print(f\"Failed for {code}: {e}\")\n",
    "        return None"
   ]
  },
  {
   "cell_type": "code",
   "execution_count": 33,
   "id": "22bade3f",
   "metadata": {},
   "outputs": [
    {
     "name": "stdout",
     "output_type": "stream",
     "text": [
      "Scraping 3013...\n",
      "Scraping W3712...\n",
      "Scraping 3015...\n"
     ]
    }
   ],
   "source": [
    "codes = ['3013', 'W3712', '3015']  \n",
    "results = []\n",
    "\n",
    "for code in codes:\n",
    "    print(f\"Scraping {code}...\")\n",
    "    result = search_and_scrape(code)\n",
    "    if result:\n",
    "        results.append(result)"
   ]
  },
  {
   "cell_type": "code",
   "execution_count": 34,
   "id": "8256fc9d",
   "metadata": {},
   "outputs": [
    {
     "data": {
      "text/html": [
       "<div>\n",
       "<style scoped>\n",
       "    .dataframe tbody tr th:only-of-type {\n",
       "        vertical-align: middle;\n",
       "    }\n",
       "\n",
       "    .dataframe tbody tr th {\n",
       "        vertical-align: top;\n",
       "    }\n",
       "\n",
       "    .dataframe thead th {\n",
       "        text-align: right;\n",
       "    }\n",
       "</style>\n",
       "<table border=\"1\" class=\"dataframe\">\n",
       "  <thead>\n",
       "    <tr style=\"text-align: right;\">\n",
       "      <th></th>\n",
       "      <th>Code</th>\n",
       "      <th>CCSD Code</th>\n",
       "      <th>Complexity</th>\n",
       "      <th>Surgery Fee</th>\n",
       "      <th>Anaesthetic Fee</th>\n",
       "      <th>Description</th>\n",
       "    </tr>\n",
       "  </thead>\n",
       "  <tbody>\n",
       "    <tr>\n",
       "      <th>0</th>\n",
       "      <td>3013</td>\n",
       "      <td>B3013</td>\n",
       "      <td>Major Plus</td>\n",
       "      <td>£768</td>\n",
       "      <td>£303</td>\n",
       "      <td>MASTECTOMY AND IMMEDIATE RECONSTRUCTION OF BRE...</td>\n",
       "    </tr>\n",
       "    <tr>\n",
       "      <th>1</th>\n",
       "      <td>W3712</td>\n",
       "      <td>W3712</td>\n",
       "      <td>Major Plus</td>\n",
       "      <td>£785</td>\n",
       "      <td>£380</td>\n",
       "      <td>PRIMARY TOTAL HIP REPLACEMENT WITH OR WITHOUT ...</td>\n",
       "    </tr>\n",
       "    <tr>\n",
       "      <th>2</th>\n",
       "      <td>3015</td>\n",
       "      <td>B3015</td>\n",
       "      <td>Major</td>\n",
       "      <td>£384</td>\n",
       "      <td>£262</td>\n",
       "      <td>RECONSTRUCTION OF BREAST USING FIXED PROSTHESI...</td>\n",
       "    </tr>\n",
       "  </tbody>\n",
       "</table>\n",
       "</div>"
      ],
      "text/plain": [
       "    Code CCSD Code  Complexity Surgery Fee Anaesthetic Fee  \\\n",
       "0   3013     B3013  Major Plus        £768            £303   \n",
       "1  W3712     W3712  Major Plus        £785            £380   \n",
       "2   3015     B3015       Major        £384            £262   \n",
       "\n",
       "                                         Description  \n",
       "0  MASTECTOMY AND IMMEDIATE RECONSTRUCTION OF BRE...  \n",
       "1  PRIMARY TOTAL HIP REPLACEMENT WITH OR WITHOUT ...  \n",
       "2  RECONSTRUCTION OF BREAST USING FIXED PROSTHESI...  "
      ]
     },
     "execution_count": 34,
     "metadata": {},
     "output_type": "execute_result"
    }
   ],
   "source": [
    "df = pd.DataFrame(results)\n",
    "df"
   ]
  },
  {
   "cell_type": "code",
   "execution_count": null,
   "id": "286006c8",
   "metadata": {},
   "outputs": [],
   "source": [
    "df.to_excel(\"aviva_fee_data.xlsx\", index=False)\n",
    "print(\"Saved to aviva_fee_data.xlsx\")"
   ]
  },
  {
   "cell_type": "code",
   "execution_count": 35,
   "id": "cd714be9",
   "metadata": {},
   "outputs": [],
   "source": [
    "driver.quit()"
   ]
  },
  {
   "cell_type": "code",
   "execution_count": null,
   "id": "9b5b707f",
   "metadata": {},
   "outputs": [],
   "source": []
  },
  {
   "cell_type": "code",
   "execution_count": null,
   "id": "626177ce",
   "metadata": {},
   "outputs": [],
   "source": [
    "pip install selenium "
   ]
  }
 ],
 "metadata": {
  "kernelspec": {
   "display_name": "Python 3 (ipykernel)",
   "language": "python",
   "name": "python3"
  },
  "language_info": {
   "codemirror_mode": {
    "name": "ipython",
    "version": 3
   },
   "file_extension": ".py",
   "mimetype": "text/x-python",
   "name": "python",
   "nbconvert_exporter": "python",
   "pygments_lexer": "ipython3",
   "version": "3.11.5"
  }
 },
 "nbformat": 4,
 "nbformat_minor": 5
}
